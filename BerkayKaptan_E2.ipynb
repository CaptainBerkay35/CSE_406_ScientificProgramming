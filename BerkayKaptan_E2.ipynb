{
 "cells": [
  {
   "cell_type": "markdown",
   "id": "430754ff",
   "metadata": {},
   "source": [
    "# Assignment2 -Berkay Kaptan- 20170808050"
   ]
  },
  {
   "cell_type": "markdown",
   "id": "cc70f947",
   "metadata": {},
   "source": [
    "# 4-Lists"
   ]
  },
  {
   "cell_type": "markdown",
   "id": "c625c9c2",
   "metadata": {},
   "source": [
    "EXERCİSE 4.1"
   ]
  },
  {
   "cell_type": "code",
   "execution_count": 7,
   "id": "85bcc729",
   "metadata": {},
   "outputs": [
    {
     "name": "stdout",
     "output_type": "stream",
     "text": [
      "[1, 2, 3]\n"
     ]
    }
   ],
   "source": [
    "a =[1,2,3]\n",
    "def write(x):\n",
    "    print(x)\n",
    "write(a)"
   ]
  },
  {
   "cell_type": "code",
   "execution_count": 8,
   "id": "fea72b09",
   "metadata": {},
   "outputs": [
    {
     "data": {
      "text/plain": [
       "[3, 2, 1]"
      ]
     },
     "execution_count": 8,
     "metadata": {},
     "output_type": "execute_result"
    }
   ],
   "source": [
    "a = [1,2,3]\n",
    "def revWrite(x):\n",
    "    rev_x = x[::-1]\n",
    "    return rev_x\n",
    "revWrite(a)\n",
    "        "
   ]
  },
  {
   "cell_type": "code",
   "execution_count": 10,
   "id": "f8f4dac3",
   "metadata": {},
   "outputs": [
    {
     "data": {
      "text/plain": [
       "3"
      ]
     },
     "execution_count": 10,
     "metadata": {},
     "output_type": "execute_result"
    }
   ],
   "source": [
    "a  = [1,2,3]\n",
    "def length(x):\n",
    "    num_elements = len(x)\n",
    "    return num_elements\n",
    "length(a)"
   ]
  },
  {
   "cell_type": "markdown",
   "id": "6038ea4f",
   "metadata": {},
   "source": [
    "EXERCİSE 4.2-->Original list all elements have changed"
   ]
  },
  {
   "cell_type": "code",
   "execution_count": 24,
   "id": "8c031b09",
   "metadata": {},
   "outputs": [
    {
     "name": "stdout",
     "output_type": "stream",
     "text": [
      "[4, 1, 3]\n",
      "[4, 1, 3]\n",
      "[4, 1, 5]\n",
      "[4, 1, 3]\n"
     ]
    },
    {
     "data": {
      "text/plain": [
       "[0, 1, 3]"
      ]
     },
     "execution_count": 24,
     "metadata": {},
     "output_type": "execute_result"
    }
   ],
   "source": [
    "a=[4,2,3]\n",
    "b = a\n",
    "b[1] = 1\n",
    "print(a)\n",
    "c = a[:]\n",
    "print(c)\n",
    "c[2] = 5\n",
    "print (c)\n",
    "\n",
    "print(a)\n",
    "def set_first_elem_to_zero(list):\n",
    "    list[0] = 0\n",
    "    return list\n",
    "set_first_elem_to_zero(a)"
   ]
  },
  {
   "cell_type": "markdown",
   "id": "a2ec8764",
   "metadata": {},
   "source": [
    "EXERCİSE 4.3 -->They are same we can define it both ways"
   ]
  },
  {
   "cell_type": "code",
   "execution_count": 32,
   "id": "64b51fce",
   "metadata": {},
   "outputs": [
    {
     "name": "stdout",
     "output_type": "stream",
     "text": [
      "[[], [], []]\n",
      "[[], [], []]\n"
     ]
    }
   ],
   "source": [
    "a =[[]] *3\n",
    "print(a)\n",
    "b=[[] for _ in range(3)]\n",
    "print(b)"
   ]
  },
  {
   "cell_type": "markdown",
   "id": "427582b9",
   "metadata": {},
   "source": [
    "EXERCİSE 4.4"
   ]
  },
  {
   "cell_type": "code",
   "execution_count": 34,
   "id": "76631200",
   "metadata": {},
   "outputs": [
    {
     "data": {
      "text/plain": [
       "[1, 2, 0, 4, 0]"
      ]
     },
     "execution_count": 34,
     "metadata": {},
     "output_type": "execute_result"
    }
   ],
   "source": [
    "a = [1,2,3,4,5]\n",
    "def zero(list,i):\n",
    "    list[i] =0\n",
    "    return list\n",
    "zero(a,2)\n",
    "zero(a,4)"
   ]
  },
  {
   "cell_type": "markdown",
   "id": "af41a172",
   "metadata": {},
   "source": [
    "EXERCİSE 4.5"
   ]
  },
  {
   "cell_type": "code",
   "execution_count": 45,
   "id": "937989c5",
   "metadata": {},
   "outputs": [
    {
     "name": "stdout",
     "output_type": "stream",
     "text": [
      "[2]\n",
      "[2, 3]\n",
      "[2, 3, 5]\n",
      "[2, 3, 5, 7]\n",
      "[2, 3, 5, 7, 11]\n"
     ]
    }
   ],
   "source": [
    "def primes(x):   \n",
    "    listprime = []\n",
    "    i = 1\n",
    "    for k in range(1,x+1):\n",
    "        c = 0\n",
    "        for j in range (1,i+1):\n",
    "            a = i%j\n",
    "            if a== 0:\n",
    "                c = c+1\n",
    "        if c == 2:\n",
    "            for g in range(1):\n",
    "                listprime.append(i)\n",
    "                print(listprime)\n",
    "        else:\n",
    "            k = k-1\n",
    "        i = i+1\n",
    "        \n",
    "primes(11)"
   ]
  },
  {
   "cell_type": "markdown",
   "id": "47c16e87",
   "metadata": {},
   "source": [
    "EXERCİSE 4.6"
   ]
  },
  {
   "cell_type": "code",
   "execution_count": 46,
   "id": "10b2e723",
   "metadata": {},
   "outputs": [
    {
     "data": {
      "text/plain": [
       "list[3, 2]"
      ]
     },
     "execution_count": 46,
     "metadata": {},
     "output_type": "execute_result"
    }
   ],
   "source": [
    "i = 3\n",
    "j = 2\n",
    "list[i,j]\n"
   ]
  },
  {
   "cell_type": "markdown",
   "id": "51859596",
   "metadata": {},
   "source": [
    "EXERCİSE 4.7"
   ]
  },
  {
   "cell_type": "code",
   "execution_count": null,
   "id": "d8917189",
   "metadata": {},
   "outputs": [],
   "source": []
  },
  {
   "cell_type": "markdown",
   "id": "f929305c",
   "metadata": {},
   "source": [
    "EXERCİSE 4.8"
   ]
  },
  {
   "cell_type": "code",
   "execution_count": 49,
   "id": "e6684b5f",
   "metadata": {},
   "outputs": [
    {
     "name": "stdout",
     "output_type": "stream",
     "text": [
      "[[1, 3], [3, 6]]\n"
     ]
    }
   ],
   "source": [
    "a = [[1,3],[3,6]]\n",
    "def subList(list):\n",
    "    for i in range(len(list)-1):\n",
    "        for j in range(i):\n",
    "            list.append(list[j: i])\n",
    "    return list\n",
    "print(subList(a))"
   ]
  },
  {
   "cell_type": "markdown",
   "id": "e19799e1",
   "metadata": {},
   "source": [
    "EXERCİSE 4.9"
   ]
  },
  {
   "cell_type": "code",
   "execution_count": 56,
   "id": "a235cc81",
   "metadata": {},
   "outputs": [
    {
     "name": "stdout",
     "output_type": "stream",
     "text": [
      "i love pinkfloyd\n",
      "None\n"
     ]
    }
   ],
   "source": [
    "string = \"I love PinkFloyd\"\n",
    "def longestWordLength(string):   \n",
    "    return print(string.lower())\n",
    "print(longestWordLength(string))"
   ]
  },
  {
   "cell_type": "markdown",
   "id": "6120bb72",
   "metadata": {},
   "source": [
    "EXERCİSE 4.10"
   ]
  },
  {
   "cell_type": "markdown",
   "id": "0f5b3bf6",
   "metadata": {},
   "source": [
    "EXERCİSE 4.11"
   ]
  },
  {
   "cell_type": "code",
   "execution_count": 59,
   "id": "39324699",
   "metadata": {},
   "outputs": [
    {
     "name": "stdout",
     "output_type": "stream",
     "text": [
      "[1, 3, 2, 4, 6, 5]\n"
     ]
    }
   ],
   "source": [
    "a =[1,3,2,4,6,5]\n",
    "def pivot(x,list):\n",
    "    leftMax = []\n",
    "    for i in range(len(list)):\n",
    "        if i > list[i]:\n",
    "            letfMax[i] = max(leftMax[i-1],list[i-1])\n",
    "            \n",
    "pivot(3,a)\n",
    "print(a)  #####I couldnt solve this one"
   ]
  },
  {
   "cell_type": "markdown",
   "id": "294fd9e4",
   "metadata": {},
   "source": [
    "EXERCİSE 4.12"
   ]
  },
  {
   "cell_type": "markdown",
   "id": "b6fb38e4",
   "metadata": {},
   "source": [
    "# 5-Tuples"
   ]
  },
  {
   "cell_type": "markdown",
   "id": "133d5231",
   "metadata": {},
   "source": [
    "EXERCİSE 5.1"
   ]
  },
  {
   "cell_type": "code",
   "execution_count": 70,
   "id": "d714bbea",
   "metadata": {},
   "outputs": [
    {
     "data": {
      "text/plain": [
       "(2, 1)"
      ]
     },
     "execution_count": 70,
     "metadata": {},
     "output_type": "execute_result"
    }
   ],
   "source": [
    "t = (1,2)\n",
    "t2 = (2,1)\n",
    "t ,t2 = t2,t\n",
    "t"
   ]
  },
  {
   "cell_type": "markdown",
   "id": "5a3dd776",
   "metadata": {},
   "source": [
    "EXERCİSE 5.2"
   ]
  },
  {
   "cell_type": "raw",
   "id": "e9267264",
   "metadata": {},
   "source": [
    "X = [1,2,3]\n",
    "Y=[4,5]\n",
    "t = (X,Y)\n",
    "t"
   ]
  },
  {
   "cell_type": "markdown",
   "id": "0b277888",
   "metadata": {},
   "source": [
    "EXERCİSE 5.3"
   ]
  },
  {
   "cell_type": "code",
   "execution_count": null,
   "id": "4c49a676",
   "metadata": {},
   "outputs": [],
   "source": []
  },
  {
   "cell_type": "markdown",
   "id": "23fbebf2",
   "metadata": {},
   "source": [
    "# 6-Dictionaries"
   ]
  },
  {
   "cell_type": "markdown",
   "id": "8c645088",
   "metadata": {},
   "source": [
    "EXAMPLE 6.1"
   ]
  },
  {
   "cell_type": "code",
   "execution_count": 78,
   "id": "d171c465",
   "metadata": {},
   "outputs": [
    {
     "name": "stdout",
     "output_type": "stream",
     "text": [
      "1 :: 27\n",
      "2 :: 11\n",
      "4 :: 3\n"
     ]
    }
   ],
   "source": [
    "d ={}\n",
    "d[1] = 27\n",
    "d[2]=11\n",
    "d[4]=3\n",
    "def writeDic(x):\n",
    "    for key, value in x.items():\n",
    "        print(key, '::', value)\n",
    "writeDic(d)"
   ]
  },
  {
   "cell_type": "markdown",
   "id": "aa4c099c",
   "metadata": {},
   "source": [
    "EXERCİSE 6.2"
   ]
  },
  {
   "cell_type": "code",
   "execution_count": 96,
   "id": "fdacda3a",
   "metadata": {},
   "outputs": [
    {
     "name": "stdout",
     "output_type": "stream",
     "text": [
      "{'pink': 2, 'david': 3, 'floyd': 1, 'Roger': 1}\n"
     ]
    }
   ],
   "source": [
    "l = ['pink','pink','david','david','david','floyd','Roger']\n",
    "\n",
    "def CountListItem(list):\n",
    "    d = {x:l.count(x) for x in l}\n",
    "    return print (d)\n",
    "CountListItem(l)"
   ]
  },
  {
   "cell_type": "markdown",
   "id": "224553d1",
   "metadata": {},
   "source": [
    "EXERCİSE 6.3"
   ]
  },
  {
   "cell_type": "code",
   "execution_count": 102,
   "id": "d48ed9ec",
   "metadata": {},
   "outputs": [
    {
     "name": "stdout",
     "output_type": "stream",
     "text": [
      "Number of pink : 2\n"
     ]
    }
   ],
   "source": [
    "l = ['pink','pink','david','david','david','floyd','Roger']\n",
    "\n",
    "def CountListItem(list):\n",
    "    d = {x:l.count(x) for x in l}\n",
    "    return print('Number of pink : '+ str(d.get('pink')))\n",
    "CountListItem(l)"
   ]
  },
  {
   "cell_type": "markdown",
   "id": "29f5b9f6",
   "metadata": {},
   "source": [
    "EXERCİSE 6.6"
   ]
  },
  {
   "cell_type": "code",
   "execution_count": 108,
   "id": "1068ed48",
   "metadata": {},
   "outputs": [
    {
     "name": "stdout",
     "output_type": "stream",
     "text": [
      "Value : 3 Key is: 4\n",
      "Value : 11 Key is: 2\n"
     ]
    }
   ],
   "source": [
    "d ={}\n",
    "d[1] = 27\n",
    "d[2]=11\n",
    "d[4]=3\n",
    "def getKey(d,value):\n",
    "    key_list = list(d.keys())\n",
    "    val_list = list(d.values())\n",
    "    position = val_list.index(value)\n",
    "    return print('Value : '+str(value)+ ' Key is: '+ str(key_list[position]))\n",
    "getKey(d,3)\n",
    "getKey(d,11)"
   ]
  },
  {
   "cell_type": "code",
   "execution_count": null,
   "id": "543179e0",
   "metadata": {},
   "outputs": [],
   "source": []
  }
 ],
 "metadata": {
  "kernelspec": {
   "display_name": "Python 3 (ipykernel)",
   "language": "python",
   "name": "python3"
  },
  "language_info": {
   "codemirror_mode": {
    "name": "ipython",
    "version": 3
   },
   "file_extension": ".py",
   "mimetype": "text/x-python",
   "name": "python",
   "nbconvert_exporter": "python",
   "pygments_lexer": "ipython3",
   "version": "3.10.2"
  }
 },
 "nbformat": 4,
 "nbformat_minor": 5
}
