{
 "cells": [
  {
   "cell_type": "markdown",
   "id": "e5348c36",
   "metadata": {},
   "source": [
    "# Assignment1 -Berkay Kaptan- 20170808050"
   ]
  },
  {
   "cell_type": "markdown",
   "id": "70d5b182",
   "metadata": {},
   "source": [
    "# 1--Basics\n"
   ]
  },
  {
   "cell_type": "code",
   "execution_count": 5,
   "id": "0e436f50",
   "metadata": {},
   "outputs": [
    {
     "data": {
      "text/plain": [
       "4"
      ]
     },
     "execution_count": 5,
     "metadata": {},
     "output_type": "execute_result"
    }
   ],
   "source": [
    "3+1"
   ]
  },
  {
   "cell_type": "code",
   "execution_count": 6,
   "id": "098e3e2c",
   "metadata": {},
   "outputs": [
    {
     "data": {
      "text/plain": [
       "9"
      ]
     },
     "execution_count": 6,
     "metadata": {},
     "output_type": "execute_result"
    }
   ],
   "source": [
    "3*3"
   ]
  },
  {
   "cell_type": "code",
   "execution_count": 96,
   "id": "979c20c1",
   "metadata": {},
   "outputs": [
    {
     "data": {
      "text/plain": [
       "8"
      ]
     },
     "execution_count": 96,
     "metadata": {},
     "output_type": "execute_result"
    }
   ],
   "source": [
    "2**3"
   ]
  },
  {
   "cell_type": "code",
   "execution_count": 95,
   "id": "19b6e571",
   "metadata": {},
   "outputs": [
    {
     "data": {
      "text/plain": [
       "'Hello World'"
      ]
     },
     "execution_count": 95,
     "metadata": {},
     "output_type": "execute_result"
    }
   ],
   "source": [
    "'Hello World'"
   ]
  },
  {
   "cell_type": "markdown",
   "id": "3a092ce5",
   "metadata": {},
   "source": [
    "Exercise 1.1 -->For math calculations they calculate results and for 'hello world' print it."
   ]
  },
  {
   "cell_type": "code",
   "execution_count": 9,
   "id": "b572c7b4",
   "metadata": {},
   "outputs": [
    {
     "data": {
      "text/plain": [
       "'python'"
      ]
     },
     "execution_count": 9,
     "metadata": {},
     "output_type": "execute_result"
    }
   ],
   "source": [
    "'py'+'thon'"
   ]
  },
  {
   "cell_type": "code",
   "execution_count": 12,
   "id": "dbed36f3",
   "metadata": {},
   "outputs": [
    {
     "data": {
      "text/plain": [
       "'pypypython'"
      ]
     },
     "execution_count": 12,
     "metadata": {},
     "output_type": "execute_result"
    }
   ],
   "source": [
    "'py'*3+'thon'"
   ]
  },
  {
   "cell_type": "code",
   "execution_count": 13,
   "id": "dfbbeb36",
   "metadata": {},
   "outputs": [
    {
     "ename": "TypeError",
     "evalue": "unsupported operand type(s) for -: 'str' and 'str'",
     "output_type": "error",
     "traceback": [
      "\u001b[1;31m---------------------------------------------------------------------------\u001b[0m",
      "\u001b[1;31mTypeError\u001b[0m                                 Traceback (most recent call last)",
      "Input \u001b[1;32mIn [13]\u001b[0m, in \u001b[0;36m<cell line: 1>\u001b[1;34m()\u001b[0m\n\u001b[1;32m----> 1\u001b[0m \u001b[38;5;124;43m'\u001b[39;49m\u001b[38;5;124;43mpy\u001b[39;49m\u001b[38;5;124;43m'\u001b[39;49m\u001b[38;5;241;43m-\u001b[39;49m\u001b[38;5;124;43m'\u001b[39;49m\u001b[38;5;124;43mpy\u001b[39;49m\u001b[38;5;124;43m'\u001b[39;49m\n",
      "\u001b[1;31mTypeError\u001b[0m: unsupported operand type(s) for -: 'str' and 'str'"
     ]
    }
   ],
   "source": [
    "'py'-'py'"
   ]
  },
  {
   "cell_type": "code",
   "execution_count": 14,
   "id": "ec6337c0",
   "metadata": {},
   "outputs": [
    {
     "ename": "TypeError",
     "evalue": "can only concatenate str (not \"int\") to str",
     "output_type": "error",
     "traceback": [
      "\u001b[1;31m---------------------------------------------------------------------------\u001b[0m",
      "\u001b[1;31mTypeError\u001b[0m                                 Traceback (most recent call last)",
      "Input \u001b[1;32mIn [14]\u001b[0m, in \u001b[0;36m<cell line: 1>\u001b[1;34m()\u001b[0m\n\u001b[1;32m----> 1\u001b[0m \u001b[38;5;124;43m'\u001b[39;49m\u001b[38;5;124;43m3\u001b[39;49m\u001b[38;5;124;43m'\u001b[39;49m\u001b[38;5;241;43m+\u001b[39;49m\u001b[38;5;241;43m3\u001b[39;49m\n",
      "\u001b[1;31mTypeError\u001b[0m: can only concatenate str (not \"int\") to str"
     ]
    }
   ],
   "source": [
    "'3'+3"
   ]
  },
  {
   "cell_type": "code",
   "execution_count": 15,
   "id": "e407044f",
   "metadata": {},
   "outputs": [
    {
     "data": {
      "text/plain": [
       "'333'"
      ]
     },
     "execution_count": 15,
     "metadata": {},
     "output_type": "execute_result"
    }
   ],
   "source": [
    "3*'3'"
   ]
  },
  {
   "cell_type": "code",
   "execution_count": 16,
   "id": "0791d06a",
   "metadata": {},
   "outputs": [
    {
     "ename": "NameError",
     "evalue": "name 'a' is not defined",
     "output_type": "error",
     "traceback": [
      "\u001b[1;31m---------------------------------------------------------------------------\u001b[0m",
      "\u001b[1;31mNameError\u001b[0m                                 Traceback (most recent call last)",
      "Input \u001b[1;32mIn [16]\u001b[0m, in \u001b[0;36m<cell line: 1>\u001b[1;34m()\u001b[0m\n\u001b[1;32m----> 1\u001b[0m \u001b[43ma\u001b[49m\n",
      "\u001b[1;31mNameError\u001b[0m: name 'a' is not defined"
     ]
    }
   ],
   "source": [
    "a"
   ]
  },
  {
   "cell_type": "code",
   "execution_count": 21,
   "id": "9d2c6562",
   "metadata": {},
   "outputs": [],
   "source": [
    "a=3"
   ]
  },
  {
   "cell_type": "code",
   "execution_count": 22,
   "id": "38498c33",
   "metadata": {},
   "outputs": [
    {
     "data": {
      "text/plain": [
       "3"
      ]
     },
     "execution_count": 22,
     "metadata": {},
     "output_type": "execute_result"
    }
   ],
   "source": [
    "a"
   ]
  },
  {
   "cell_type": "markdown",
   "id": "3eae4bf2",
   "metadata": {},
   "source": [
    "Exercise 1.3 -->In c option we cant substract string to string\n",
    "In d option we cant do addition operation between string and integer\n",
    "In f option we have error because we havent define a yet after we define it error solved"
   ]
  },
  {
   "cell_type": "code",
   "execution_count": 23,
   "id": "9be09637",
   "metadata": {},
   "outputs": [
    {
     "data": {
      "text/plain": [
       "True"
      ]
     },
     "execution_count": 23,
     "metadata": {},
     "output_type": "execute_result"
    }
   ],
   "source": [
    "1 == 1"
   ]
  },
  {
   "cell_type": "code",
   "execution_count": 25,
   "id": "cea9f286",
   "metadata": {},
   "outputs": [
    {
     "data": {
      "text/plain": [
       "True"
      ]
     },
     "execution_count": 25,
     "metadata": {},
     "output_type": "execute_result"
    }
   ],
   "source": [
    "1 == True"
   ]
  },
  {
   "cell_type": "code",
   "execution_count": 26,
   "id": "3fafff21",
   "metadata": {},
   "outputs": [
    {
     "data": {
      "text/plain": [
       "False"
      ]
     },
     "execution_count": 26,
     "metadata": {},
     "output_type": "execute_result"
    }
   ],
   "source": [
    "0 == True"
   ]
  },
  {
   "cell_type": "code",
   "execution_count": 27,
   "id": "a38bcf85",
   "metadata": {},
   "outputs": [
    {
     "data": {
      "text/plain": [
       "True"
      ]
     },
     "execution_count": 27,
     "metadata": {},
     "output_type": "execute_result"
    }
   ],
   "source": [
    "0 == False"
   ]
  },
  {
   "cell_type": "code",
   "execution_count": 28,
   "id": "53c16748",
   "metadata": {},
   "outputs": [
    {
     "data": {
      "text/plain": [
       "True"
      ]
     },
     "execution_count": 28,
     "metadata": {},
     "output_type": "execute_result"
    }
   ],
   "source": [
    "3 == 1*3"
   ]
  },
  {
   "cell_type": "code",
   "execution_count": 29,
   "id": "8edaaf29",
   "metadata": {},
   "outputs": [
    {
     "data": {
      "text/plain": [
       "0"
      ]
     },
     "execution_count": 29,
     "metadata": {},
     "output_type": "execute_result"
    }
   ],
   "source": [
    "(3==1) *3"
   ]
  },
  {
   "cell_type": "code",
   "execution_count": 31,
   "id": "6f7da1a9",
   "metadata": {},
   "outputs": [
    {
     "data": {
      "text/plain": [
       "False"
      ]
     },
     "execution_count": 31,
     "metadata": {},
     "output_type": "execute_result"
    }
   ],
   "source": [
    "(3 == 3)*4+3 == 1"
   ]
  },
  {
   "cell_type": "code",
   "execution_count": 32,
   "id": "24478df4",
   "metadata": {},
   "outputs": [
    {
     "data": {
      "text/plain": [
       "False"
      ]
     },
     "execution_count": 32,
     "metadata": {},
     "output_type": "execute_result"
    }
   ],
   "source": [
    "3**5 >= 4**4"
   ]
  },
  {
   "cell_type": "markdown",
   "id": "2d31d9d7",
   "metadata": {},
   "source": [
    "Exercise 1.4 -->Actually ı dont know what to explain here.In f section we got zero because indside the brackets we have false which means 0 and 0 multiply 3 is still zero.Same logic in g section too\n"
   ]
  },
  {
   "cell_type": "code",
   "execution_count": 33,
   "id": "b091fc5f",
   "metadata": {},
   "outputs": [
    {
     "data": {
      "text/plain": [
       "1.6666666666666667"
      ]
     },
     "execution_count": 33,
     "metadata": {},
     "output_type": "execute_result"
    }
   ],
   "source": [
    "5/3"
   ]
  },
  {
   "cell_type": "code",
   "execution_count": 34,
   "id": "d033ed62",
   "metadata": {},
   "outputs": [
    {
     "data": {
      "text/plain": [
       "2"
      ]
     },
     "execution_count": 34,
     "metadata": {},
     "output_type": "execute_result"
    }
   ],
   "source": [
    "5%3"
   ]
  },
  {
   "cell_type": "code",
   "execution_count": 35,
   "id": "cc9b5420",
   "metadata": {},
   "outputs": [
    {
     "data": {
      "text/plain": [
       "1.6666666666666667"
      ]
     },
     "execution_count": 35,
     "metadata": {},
     "output_type": "execute_result"
    }
   ],
   "source": [
    "5.0/3"
   ]
  },
  {
   "cell_type": "code",
   "execution_count": 36,
   "id": "166188c0",
   "metadata": {},
   "outputs": [
    {
     "data": {
      "text/plain": [
       "1.6666666666666667"
      ]
     },
     "execution_count": 36,
     "metadata": {},
     "output_type": "execute_result"
    }
   ],
   "source": [
    "5/3.0"
   ]
  },
  {
   "cell_type": "code",
   "execution_count": 37,
   "id": "e56e6d6b",
   "metadata": {},
   "outputs": [
    {
     "data": {
      "text/plain": [
       "2.2"
      ]
     },
     "execution_count": 37,
     "metadata": {},
     "output_type": "execute_result"
    }
   ],
   "source": [
    "5.2%3"
   ]
  },
  {
   "cell_type": "code",
   "execution_count": 38,
   "id": "32a39412",
   "metadata": {},
   "outputs": [
    {
     "data": {
      "text/plain": [
       "1775896810483121914350934797871501063452843428843794422323202530887281536545210629921129898113201749875234297340507804201761453596034016264189501186924066128377025843892373608427790859511135990682732202975330824797118808624727351608183194154557208730494440110429635650057431833674286462463508755276302896154336475782768613964332764108132533925570342220340698973761380541294970139762186212823359128790706292900765512137078550033912252338262922477518858757114840012576514724742388124595061301502222934806074032688691170880996881967426442947828261057852871032366879179996122216385870273020506079240103910728766397733398071775041745854959302025036249707279600400001"
      ]
     },
     "execution_count": 38,
     "metadata": {},
     "output_type": "execute_result"
    }
   ],
   "source": [
    "2001**200"
   ]
  },
  {
   "cell_type": "markdown",
   "id": "e46968d7",
   "metadata": {},
   "source": [
    "Exercise 1.5-->In a,c and d sections our results are double values even we divide double or integer values"
   ]
  },
  {
   "cell_type": "code",
   "execution_count": 39,
   "id": "4b10b6d6",
   "metadata": {},
   "outputs": [
    {
     "ename": "OverflowError",
     "evalue": "(34, 'Result too large')",
     "output_type": "error",
     "traceback": [
      "\u001b[1;31m---------------------------------------------------------------------------\u001b[0m",
      "\u001b[1;31mOverflowError\u001b[0m                             Traceback (most recent call last)",
      "Input \u001b[1;32mIn [39]\u001b[0m, in \u001b[0;36m<cell line: 1>\u001b[1;34m()\u001b[0m\n\u001b[1;32m----> 1\u001b[0m \u001b[38;5;241;43m2000.3\u001b[39;49m\u001b[38;5;241;43m*\u001b[39;49m\u001b[38;5;241;43m*\u001b[39;49m\u001b[38;5;241;43m200\u001b[39;49m\n",
      "\u001b[1;31mOverflowError\u001b[0m: (34, 'Result too large')"
     ]
    }
   ],
   "source": [
    "2000.3**200"
   ]
  },
  {
   "cell_type": "code",
   "execution_count": 40,
   "id": "306f9adc",
   "metadata": {},
   "outputs": [
    {
     "data": {
      "text/plain": [
       "1.0"
      ]
     },
     "execution_count": 40,
     "metadata": {},
     "output_type": "execute_result"
    }
   ],
   "source": [
    "1.0+1.0-1.0"
   ]
  },
  {
   "cell_type": "code",
   "execution_count": 41,
   "id": "0d69d523",
   "metadata": {},
   "outputs": [
    {
     "data": {
      "text/plain": [
       "0.0"
      ]
     },
     "execution_count": 41,
     "metadata": {},
     "output_type": "execute_result"
    }
   ],
   "source": [
    "1.0+1.0e20-1.0e20"
   ]
  },
  {
   "cell_type": "markdown",
   "id": "c3b1e433",
   "metadata": {},
   "source": [
    "Exercise 1.6-->I couldnt compare a section with the above one because we got error message('Result too large')"
   ]
  },
  {
   "cell_type": "markdown",
   "id": "d8c47a31",
   "metadata": {},
   "source": [
    "Exercise 1.7"
   ]
  },
  {
   "cell_type": "code",
   "execution_count": 44,
   "id": "23ee9dba",
   "metadata": {},
   "outputs": [
    {
     "name": "stdout",
     "output_type": "stream",
     "text": [
      "Hello Berkay Kaptan\n"
     ]
    }
   ],
   "source": [
    "name = 'Berkay Kaptan'\n",
    "print('Hello ' + name)"
   ]
  },
  {
   "cell_type": "code",
   "execution_count": 45,
   "id": "35b48077",
   "metadata": {},
   "outputs": [
    {
     "data": {
      "text/plain": [
       "123.0"
      ]
     },
     "execution_count": 45,
     "metadata": {},
     "output_type": "execute_result"
    }
   ],
   "source": [
    "float(123)"
   ]
  },
  {
   "cell_type": "code",
   "execution_count": 46,
   "id": "515fe0a6",
   "metadata": {},
   "outputs": [
    {
     "data": {
      "text/plain": [
       "123.0"
      ]
     },
     "execution_count": 46,
     "metadata": {},
     "output_type": "execute_result"
    }
   ],
   "source": [
    "float('123')"
   ]
  },
  {
   "cell_type": "code",
   "execution_count": 47,
   "id": "e861b64e",
   "metadata": {},
   "outputs": [
    {
     "data": {
      "text/plain": [
       "123.23"
      ]
     },
     "execution_count": 47,
     "metadata": {},
     "output_type": "execute_result"
    }
   ],
   "source": [
    "float('123.23')"
   ]
  },
  {
   "cell_type": "code",
   "execution_count": 48,
   "id": "e7442121",
   "metadata": {},
   "outputs": [
    {
     "data": {
      "text/plain": [
       "123"
      ]
     },
     "execution_count": 48,
     "metadata": {},
     "output_type": "execute_result"
    }
   ],
   "source": [
    "int(123.23)"
   ]
  },
  {
   "cell_type": "code",
   "execution_count": 49,
   "id": "e38c8cf9",
   "metadata": {},
   "outputs": [
    {
     "ename": "ValueError",
     "evalue": "invalid literal for int() with base 10: '123.23'",
     "output_type": "error",
     "traceback": [
      "\u001b[1;31m---------------------------------------------------------------------------\u001b[0m",
      "\u001b[1;31mValueError\u001b[0m                                Traceback (most recent call last)",
      "Input \u001b[1;32mIn [49]\u001b[0m, in \u001b[0;36m<cell line: 1>\u001b[1;34m()\u001b[0m\n\u001b[1;32m----> 1\u001b[0m \u001b[38;5;28;43mint\u001b[39;49m\u001b[43m(\u001b[49m\u001b[38;5;124;43m'\u001b[39;49m\u001b[38;5;124;43m123.23\u001b[39;49m\u001b[38;5;124;43m'\u001b[39;49m\u001b[43m)\u001b[49m\n",
      "\u001b[1;31mValueError\u001b[0m: invalid literal for int() with base 10: '123.23'"
     ]
    }
   ],
   "source": [
    "int('123.23')"
   ]
  },
  {
   "cell_type": "code",
   "execution_count": 50,
   "id": "39d6b993",
   "metadata": {},
   "outputs": [
    {
     "data": {
      "text/plain": [
       "123"
      ]
     },
     "execution_count": 50,
     "metadata": {},
     "output_type": "execute_result"
    }
   ],
   "source": [
    "int(float('123.23'))"
   ]
  },
  {
   "cell_type": "code",
   "execution_count": 51,
   "id": "0368126d",
   "metadata": {},
   "outputs": [
    {
     "data": {
      "text/plain": [
       "'12'"
      ]
     },
     "execution_count": 51,
     "metadata": {},
     "output_type": "execute_result"
    }
   ],
   "source": [
    "str(12)"
   ]
  },
  {
   "cell_type": "code",
   "execution_count": 52,
   "id": "f1c824c9",
   "metadata": {},
   "outputs": [
    {
     "data": {
      "text/plain": [
       "'12.2'"
      ]
     },
     "execution_count": 52,
     "metadata": {},
     "output_type": "execute_result"
    }
   ],
   "source": [
    "str(12.2)"
   ]
  },
  {
   "cell_type": "code",
   "execution_count": 54,
   "id": "cd97a907",
   "metadata": {},
   "outputs": [
    {
     "data": {
      "text/plain": [
       "True"
      ]
     },
     "execution_count": 54,
     "metadata": {},
     "output_type": "execute_result"
    }
   ],
   "source": [
    "bool('a')"
   ]
  },
  {
   "cell_type": "code",
   "execution_count": 55,
   "id": "cf8b0404",
   "metadata": {},
   "outputs": [
    {
     "data": {
      "text/plain": [
       "False"
      ]
     },
     "execution_count": 55,
     "metadata": {},
     "output_type": "execute_result"
    }
   ],
   "source": [
    "bool(0)"
   ]
  },
  {
   "cell_type": "code",
   "execution_count": 56,
   "id": "d8b454a4",
   "metadata": {},
   "outputs": [
    {
     "data": {
      "text/plain": [
       "True"
      ]
     },
     "execution_count": 56,
     "metadata": {},
     "output_type": "execute_result"
    }
   ],
   "source": [
    "bool(0.1)"
   ]
  },
  {
   "cell_type": "markdown",
   "id": "04a84527",
   "metadata": {},
   "source": [
    "Exercise 1.8-->In e section we have error while casting str to int our string value written in float format and int based on 10 so it couldnt cast it"
   ]
  },
  {
   "cell_type": "markdown",
   "id": "4516d0fc",
   "metadata": {},
   "source": [
    "# 2--Control Flow"
   ]
  },
  {
   "cell_type": "code",
   "execution_count": 57,
   "id": "45778570",
   "metadata": {},
   "outputs": [
    {
     "data": {
      "text/plain": [
       "range(0, 5)"
      ]
     },
     "execution_count": 57,
     "metadata": {},
     "output_type": "execute_result"
    }
   ],
   "source": [
    "range(5)"
   ]
  },
  {
   "cell_type": "code",
   "execution_count": 60,
   "id": "8665c50e",
   "metadata": {},
   "outputs": [
    {
     "data": {
      "text/plain": [
       "range"
      ]
     },
     "execution_count": 60,
     "metadata": {},
     "output_type": "execute_result"
    }
   ],
   "source": [
    "type(range(5))"
   ]
  },
  {
   "cell_type": "markdown",
   "id": "7e7ec03b",
   "metadata": {},
   "source": [
    "Exercise 2.1-->So what does for i in range(5)\n",
    "mean?\n",
    "it means start from zero(python initial value) and go to 5"
   ]
  },
  {
   "cell_type": "code",
   "execution_count": 66,
   "id": "7c4c6d3a",
   "metadata": {},
   "outputs": [
    {
     "name": "stdout",
     "output_type": "stream",
     "text": [
      "0,1,2,3,4,5,6,7,8,9,10,11,12,13,14,15,16,17,18,19,20,21,22,23,24,25,26,27,28,29,30,31,32,33,34,35,36,37,38,39,40,41,42,43,44,45,46,47,48,49,50,51,52,53,54,55,56,57,58,59,60,61,62,63,64,65,66,67,68,69,70,71,72,73,74,75,76,77,78,79,80,81,82,83,84,85,86,87,88,89,90,91,92,93,94,95,96,97,98,99,100,"
     ]
    }
   ],
   "source": [
    "for i in range (101):\n",
    "    print(i , end =',')\n"
   ]
  },
  {
   "cell_type": "code",
   "execution_count": 67,
   "id": "1c5c0d30",
   "metadata": {},
   "outputs": [
    {
     "name": "stdout",
     "output_type": "stream",
     "text": [
      "0,7,14,21,28,35,42,49,56,63,70,77,84,91,98,"
     ]
    }
   ],
   "source": [
    "for i in range (0,101,7):\n",
    "    print(i, end=',')"
   ]
  },
  {
   "cell_type": "code",
   "execution_count": 72,
   "id": "45467989",
   "metadata": {},
   "outputs": [
    {
     "name": "stdout",
     "output_type": "stream",
     "text": [
      "5,10,20,25,35,40,50,55,65,70,80,85,95,100,"
     ]
    }
   ],
   "source": [
    "for i in range(1,101):\n",
    "    if(i %5==0 and i%3!= 0):\n",
    "            print(i,end=',')\n",
    "    "
   ]
  },
  {
   "cell_type": "code",
   "execution_count": 76,
   "id": "b0577bc0",
   "metadata": {},
   "outputs": [
    {
     "name": "stdout",
     "output_type": "stream",
     "text": [
      "1,2,4,5,10,"
     ]
    }
   ],
   "source": [
    "for i in range(1,20):\n",
    "    if(20 % i==0):\n",
    "        print(i,end=',')\n",
    "    i = i+1    "
   ]
  },
  {
   "cell_type": "markdown",
   "id": "56b36d15",
   "metadata": {},
   "source": [
    "Exercise 2.2"
   ]
  },
  {
   "cell_type": "code",
   "execution_count": 86,
   "id": "c7fd8afd",
   "metadata": {},
   "outputs": [
    {
     "name": "stdout",
     "output_type": "stream",
     "text": [
      "0,1,2,3,4,5,6,7,8,9,10,11,12,13,14,15,16,17,18,19,20,21,22,23,24,25,26,27,28,29,30,31,32,33,34,35,36,37,38,39,40,41,42,43,44,45,46,47,48,49,50,51,52,53,54,55,56,57,58,59,60,61,62,63,64,65,66,67,68,69,70,71,72,73,74,75,76,77,78,79,80,81,82,83,84,85,86,87,88,89,90,91,92,93,94,95,96,97,98,99,100,"
     ]
    }
   ],
   "source": [
    "n =0\n",
    "while(n<101):\n",
    "    print(n,end=',')\n",
    "    n +=1\n"
   ]
  },
  {
   "cell_type": "code",
   "execution_count": 89,
   "id": "2d260ef6",
   "metadata": {},
   "outputs": [
    {
     "name": "stdout",
     "output_type": "stream",
     "text": [
      "7,14,21,28,35,42,49,56,63,70,77,84,91,98,"
     ]
    }
   ],
   "source": [
    "n = 1\n",
    "while(n<101):\n",
    "    if(n %7==0):\n",
    "        print(n,end=',')\n",
    "    n +=1    "
   ]
  },
  {
   "cell_type": "markdown",
   "id": "2a4d13ea",
   "metadata": {},
   "source": [
    "Exercise 2.3"
   ]
  },
  {
   "cell_type": "code",
   "execution_count": 105,
   "id": "4e778128",
   "metadata": {},
   "outputs": [
    {
     "name": "stdout",
     "output_type": "stream",
     "text": [
      "385,770,1155,1540,1925,2310,2695,3080,3465,3850,4235,4620,5005,5390,5775,6160,6545,6930,7315,7700,"
     ]
    }
   ],
   "source": [
    "number_found = 0\n",
    "n=1\n",
    "while(number_found < 20):\n",
    "    if(n%5 == 0 and n%7 == 0 and n%11==0):\n",
    "        print(n,end=',')\n",
    "        number_found +=1\n",
    "    n+=1    "
   ]
  },
  {
   "cell_type": "markdown",
   "id": "867ce919",
   "metadata": {},
   "source": [
    "Exercise 2.5"
   ]
  },
  {
   "cell_type": "code",
   "execution_count": 104,
   "id": "ef157c49",
   "metadata": {},
   "outputs": [
    {
     "name": "stdout",
     "output_type": "stream",
     "text": [
      "2520\n"
     ]
    }
   ],
   "source": [
    "n = 1\n",
    "while(n<5000):\n",
    "    if(n%1 == 0 and n%2==0 and n%3==0 and n%4==0 and n%5==0 and n%6==0 and n%7==0 and n%8==0 and n%9==0 and n%10==0):\n",
    "        print(n)\n",
    "    n+=1\n",
    "    "
   ]
  },
  {
   "cell_type": "markdown",
   "id": "dc298eb1",
   "metadata": {},
   "source": [
    "Exercise 2.6"
   ]
  },
  {
   "cell_type": "code",
   "execution_count": 100,
   "id": "4c027537",
   "metadata": {},
   "outputs": [
    {
     "name": "stdout",
     "output_type": "stream",
     "text": [
      "310,155,466,233,700,350,175,526,263,790,395,1186,593,1780,890,445,1336,668,334,167,502,251,754,377,1132,566,283,850,425,1276,638,319,958,479,1438,719,2158,1079,3238,1619,4858,2429,7288,3644,1822,911,2734,1367,4102,2051,6154,3077,9232,4616,2308,1154,577,1732,866,433,1300,650,325,976,488,244,122,61,184,92,46,23,70,35,106,53,160,80,40,20,10,5,16,8,4,2,1,"
     ]
    }
   ],
   "source": [
    "n = 103\n",
    "while(n!=1):\n",
    "    if(n%2 == 0):\n",
    "        n = n/2        \n",
    "    elif(n%2==1):\n",
    "        n=3*n+1\n",
    "    print(int(n),end=',')"
   ]
  },
  {
   "cell_type": "markdown",
   "id": "0af5f49f",
   "metadata": {},
   "source": [
    "Exercise 2.7"
   ]
  },
  {
   "cell_type": "markdown",
   "id": "28cd5cb9",
   "metadata": {},
   "source": [
    "# 3--Functions"
   ]
  },
  {
   "cell_type": "code",
   "execution_count": 106,
   "id": "0b7c2aa0",
   "metadata": {},
   "outputs": [
    {
     "name": "stdout",
     "output_type": "stream",
     "text": [
      "Hello World\n"
     ]
    }
   ],
   "source": [
    "def hello():\n",
    "    print('Hello World')\n",
    "\n",
    "hello()"
   ]
  },
  {
   "cell_type": "code",
   "execution_count": 108,
   "id": "9fced11e",
   "metadata": {},
   "outputs": [
    {
     "name": "stdout",
     "output_type": "stream",
     "text": [
      "Hello Berkay\n"
     ]
    }
   ],
   "source": [
    "def name(name):\n",
    "    print('Hello ' + name)\n",
    "\n",
    "name('Berkay')"
   ]
  },
  {
   "cell_type": "markdown",
   "id": "c8ac445b",
   "metadata": {},
   "source": [
    "Exercise 3.1-->return shows us to how a function gives back a value, print shows user a string "
   ]
  },
  {
   "cell_type": "code",
   "execution_count": 115,
   "id": "a9714b73",
   "metadata": {},
   "outputs": [
    {
     "data": {
      "text/plain": [
       "3"
      ]
     },
     "execution_count": 115,
     "metadata": {},
     "output_type": "execute_result"
    }
   ],
   "source": [
    "def my_max(a,b):\n",
    "    if(a>b):\n",
    "        return a\n",
    "    else:\n",
    "        return b\n",
    "my_max(3,2)    "
   ]
  },
  {
   "cell_type": "code",
   "execution_count": 116,
   "id": "8d500165",
   "metadata": {},
   "outputs": [
    {
     "data": {
      "text/plain": [
       "4"
      ]
     },
     "execution_count": 116,
     "metadata": {},
     "output_type": "execute_result"
    }
   ],
   "source": [
    "def my_max(a,b):\n",
    "    if(a>b):\n",
    "        return a\n",
    "    if(b>a):\n",
    "        return b\n",
    "my_max(3,4)    "
   ]
  },
  {
   "cell_type": "markdown",
   "id": "9472f124",
   "metadata": {},
   "source": [
    "Exercise 3.3"
   ]
  },
  {
   "cell_type": "code",
   "execution_count": 119,
   "id": "63e52d48",
   "metadata": {},
   "outputs": [
    {
     "name": "stdout",
     "output_type": "stream",
     "text": [
      "True\n"
     ]
    }
   ],
   "source": [
    "def is_prime(a):\n",
    "    for n in range(2,int(a**1/2)+1):\n",
    "        if a%n==0:\n",
    "            return False\n",
    "    return True\n",
    "\n",
    "print(is_prime(7))\n",
    "    "
   ]
  },
  {
   "cell_type": "markdown",
   "id": "21cd39da",
   "metadata": {},
   "source": [
    "Exercise 3.4"
   ]
  },
  {
   "cell_type": "markdown",
   "id": "5aa4682b",
   "metadata": {},
   "source": [
    "I couldnt do 3.2 and 3.5"
   ]
  },
  {
   "cell_type": "code",
   "execution_count": null,
   "id": "06786ae8",
   "metadata": {},
   "outputs": [],
   "source": []
  }
 ],
 "metadata": {
  "kernelspec": {
   "display_name": "Python 3 (ipykernel)",
   "language": "python",
   "name": "python3"
  },
  "language_info": {
   "codemirror_mode": {
    "name": "ipython",
    "version": 3
   },
   "file_extension": ".py",
   "mimetype": "text/x-python",
   "name": "python",
   "nbconvert_exporter": "python",
   "pygments_lexer": "ipython3",
   "version": "3.10.2"
  }
 },
 "nbformat": 4,
 "nbformat_minor": 5
}
